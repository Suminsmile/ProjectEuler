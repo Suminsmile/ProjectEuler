{
 "cells": [
  {
   "cell_type": "markdown",
   "metadata": {},
   "source": [
    "Connected to Python 3.12.2"
   ]
  },
  {
   "cell_type": "code",
   "execution_count": 1,
   "metadata": {},
   "outputs": [
    {
     "name": "stdout",
     "output_type": "stream",
     "text": [
      "2\n"
     ]
    }
   ],
   "source": [
    "import math\n",
    "def is_square(n):\n",
    "    s=int(math.sqrt(n))\n",
    "    return s**2==n\n",
    "def min_x(D):\n",
    "    \"\"\"주어진 D에 대해 x^2-Dy^2=1 의 최소 해 x\"\"\"\n",
    "    if is_square(D):\n",
    "        return None\n",
    "    m,d,a=0,1,int(math.sqrt(D))\n",
    "    num1,num,den1,den=1,a,0,1\n",
    "    while num**2-D*den**2 != 1:\n",
    "        m=d*a-m\n",
    "        d=(D-m**2)//D\n",
    "        a=(int(math.sqrt(D))+m)//D\n",
    "        num2=num1\n",
    "        num1=num\n",
    "        den2=den1\n",
    "        den1=den\n",
    "        num=a*num1+num2\n",
    "        den=a*den1+den2\n",
    "    return num\n",
    "def Q66_v1():\n",
    "    max_x=0 \n",
    "    result=0 #가장 큰 x를 갖는 D 값\n",
    "    for D in range(2,1001):\n",
    "        x=min_x(D)\n",
    "        if x is not None and x>max_x:\n",
    "            max_x=x\n",
    "            result=D\n",
    "    return result\n",
    "print(Q66_v1())"
   ]
  },
  {
   "cell_type": "code",
   "execution_count": 4,
   "metadata": {},
   "outputs": [
    {
     "name": "stdout",
     "output_type": "stream",
     "text": [
      "661\n"
     ]
    }
   ],
   "source": [
    "import math\n",
    "def is_square(n):\n",
    "    s=int(math.sqrt(n))\n",
    "    return s**2==n\n",
    "def min_x(D):\n",
    "    \"\"\"주어진 D에 대해 x^2-Dy^2=1 의 최소 해 x\"\"\"\n",
    "    if is_square(D):\n",
    "        return None\n",
    "    m,d,a=0,1,int(math.sqrt(D))\n",
    "    num1,num,den1,den=1,a,0,1\n",
    "    while num**2-D*den**2 != 1:\n",
    "        m=d*a-m\n",
    "        d=(D-m**2)//d\n",
    "        a=(int(math.sqrt(D))+m)//d\n",
    "        num2=num1\n",
    "        num1=num\n",
    "        den2=den1\n",
    "        den1=den\n",
    "        num=a*num1+num2\n",
    "        den=a*den1+den2\n",
    "    return num\n",
    "def Q66_v1():\n",
    "    max_x=0 \n",
    "    result=0 #가장 큰 x를 갖는 D 값\n",
    "    for D in range(2,1001):\n",
    "        x=min_x(D)\n",
    "        if x is not None and x>max_x:\n",
    "            max_x=x\n",
    "            result=D\n",
    "    return result\n",
    "print(Q66_v1())"
   ]
  }
 ],
 "metadata": {
  "kernelspec": {
   "display_name": "Python 3",
   "language": "python",
   "name": "python3"
  },
  "language_info": {
   "name": "python",
   "version": "3.12.2"
  }
 },
 "nbformat": 4,
 "nbformat_minor": 2
}
